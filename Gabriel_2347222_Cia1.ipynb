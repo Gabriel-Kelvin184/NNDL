{
  "nbformat": 4,
  "nbformat_minor": 0,
  "metadata": {
    "colab": {
      "provenance": []
    },
    "kernelspec": {
      "name": "python3",
      "display_name": "Python 3"
    },
    "language_info": {
      "name": "python"
    }
  },
  "cells": [
    {
      "cell_type": "markdown",
      "source": [
        "# **Question 1**"
      ],
      "metadata": {
        "id": "VYCBcy5hBufA"
      }
    },
    {
      "cell_type": "code",
      "execution_count": 1,
      "metadata": {
        "id": "9nKwFayL1sXF"
      },
      "outputs": [],
      "source": [
        "import numpy as np"
      ]
    },
    {
      "cell_type": "markdown",
      "source": [
        "# 1. XOR gate truth table dataset"
      ],
      "metadata": {
        "id": "A9_I65Mn7NtE"
      }
    },
    {
      "cell_type": "code",
      "source": [
        "X = np.array([[0, 0],\n",
        "              [0, 1],\n",
        "              [1, 0],\n",
        "              [1, 1]])\n",
        "\n",
        "y = np.array([0, 1, 1, 0])"
      ],
      "metadata": {
        "id": "rhUEEChN7Brs"
      },
      "execution_count": 5,
      "outputs": []
    },
    {
      "cell_type": "markdown",
      "source": [
        "# 2. Implementing Single Layer Perceptron"
      ],
      "metadata": {
        "id": "G8gWHW7c7Teu"
      }
    },
    {
      "cell_type": "code",
      "source": [
        "class Perceptron:\n",
        "    def __init__(self, learning_rate=0.1, epochs=100):\n",
        "        self.learning_rate = learning_rate\n",
        "        self.epochs = epochs\n",
        "\n",
        "    def activation(self, x):\n",
        "        return 1 if x >= 0 else 0\n",
        "\n",
        "    def train(self, X, y):\n",
        "        num_samples, num_features = X.shape\n",
        "        self.weights = np.zeros(num_features)\n",
        "        self.bias = 0\n",
        "\n",
        "        for _ in range(self.epochs):\n",
        "                for i in range(num_samples):\n",
        "                    linear_output = np.dot(X[i], self.weights) + self.bias\n",
        "                    y_pred = self.activation(linear_output)\n",
        "                    update = self.learning_rate * (y[i] - y_pred)\n",
        "                    self.weights += update * X[i]\n",
        "                    self.bias += update\n",
        "\n",
        "    def predict(self, X):\n",
        "        linear_output = np.dot(X, self.weights) + self.bias\n",
        "        return np.array([self.activation(x) for x in linear_output])"
      ],
      "metadata": {
        "id": "udggiaLH7FuW"
      },
      "execution_count": 6,
      "outputs": []
    },
    {
      "cell_type": "markdown",
      "source": [
        "# 3. Training the single layer perceptron on XOR gate\n"
      ],
      "metadata": {
        "id": "gIOzQq2V8Tcd"
      }
    },
    {
      "cell_type": "code",
      "source": [
        "perceptron = Perceptron(learning_rate=0.1, epochs=10)\n",
        "perceptron.train(X, y)\n",
        "\n",
        "y_pred = perceptron.predict(X)\n",
        "print(\"Predicted Outputs: \", y_pred)\n",
        "print(\"Actual Outputs: \", y)\n",
        "\n",
        "accuracy = np.sum(y_pred == y) / len(y) * 100\n",
        "print(f\"Accuracy of Single Layer Perceptron on XOR data: {accuracy}%\")"
      ],
      "metadata": {
        "colab": {
          "base_uri": "https://localhost:8080/"
        },
        "id": "Na1CnCG78Q22",
        "outputId": "0852a6de-66eb-4b40-ffcc-0cadde38e8ef"
      },
      "execution_count": 7,
      "outputs": [
        {
          "output_type": "stream",
          "name": "stdout",
          "text": [
            "Predicted Outputs:  [1 1 0 0]\n",
            "Actual Outputs:  [0 1 1 0]\n",
            "Accuracy of Single Layer Perceptron on XOR data: 50.0%\n"
          ]
        }
      ]
    },
    {
      "cell_type": "markdown",
      "source": [
        "# 4. Observation for Single Layer Perceptron"
      ],
      "metadata": {
        "id": "ZrU7G3CP9pAM"
      }
    },
    {
      "cell_type": "markdown",
      "source": [
        "The perceptron achieved 50% accuracy, correctly predicting only two of the four cases. This happens because the XOR problem is non-linearly separable, and a single-layer perceptron can only handle linear decision boundaries. As a result, it fails to classify the cases where the inputs differ ([0,1] and [1,0]). This highlights the perceptron's limitation in solving non-linear problems like XOR."
      ],
      "metadata": {
        "id": "J5iiUqTv92vT"
      }
    },
    {
      "cell_type": "markdown",
      "source": [
        "# 5. Implementaton of XOR using Multilevel Perceptron"
      ],
      "metadata": {
        "id": "1Rbct47d9WQ0"
      }
    },
    {
      "cell_type": "code",
      "source": [
        "from sklearn.neural_network import MLPClassifier\n",
        "from sklearn.metrics import accuracy_score\n",
        "\n",
        "mlp = MLPClassifier(hidden_layer_sizes=(2,), max_iter=10000, activation='relu', solver='adam')\n",
        "\n",
        "mlp.fit(X, y)\n",
        "\n",
        "y_pred_mlp = mlp.predict(X)\n",
        "\n",
        "print(\"Predicted outputs (MLP):\", y_pred_mlp)\n",
        "print(\"Actual outputs:\", y)\n",
        "\n",
        "accuracy_mlp = accuracy_score(y, y_pred_mlp) * 100\n",
        "print(f\"Accuracy of Multi-Layer Perceptron on XOR data: {accuracy_mlp}%\")"
      ],
      "metadata": {
        "colab": {
          "base_uri": "https://localhost:8080/"
        },
        "id": "prwZwP-686Oa",
        "outputId": "5136ed11-b7ec-4b3c-cb2a-9303cb0ab78f"
      },
      "execution_count": 30,
      "outputs": [
        {
          "output_type": "stream",
          "name": "stdout",
          "text": [
            "Predicted outputs (MLP): [0 1 1 0]\n",
            "Actual outputs: [0 1 1 0]\n",
            "Accuracy of Multi-Layer Perceptron on XOR data: 100.0%\n"
          ]
        }
      ]
    },
    {
      "cell_type": "markdown",
      "source": [
        "# **Question 2**"
      ],
      "metadata": {
        "id": "G4YPVY7-ByDN"
      }
    },
    {
      "cell_type": "code",
      "source": [
        "import pandas as pd\n",
        "import numpy as np\n",
        "import torch\n",
        "import torch.nn as nn\n",
        "import torch.optim as optim\n",
        "from sklearn.feature_extraction.text import TfidfVectorizer\n",
        "from sklearn.model_selection import train_test_split\n",
        "from sklearn.preprocessing import LabelEncoder\n",
        "from sklearn.metrics import accuracy_score\n",
        "import matplotlib.pyplot as plt"
      ],
      "metadata": {
        "id": "Uv_t4uwhB0wP"
      },
      "execution_count": 45,
      "outputs": []
    },
    {
      "cell_type": "code",
      "source": [
        "df = pd.read_csv(\"tweets.csv\")"
      ],
      "metadata": {
        "id": "YzG-lA0UB6tt"
      },
      "execution_count": 33,
      "outputs": []
    },
    {
      "cell_type": "markdown",
      "source": [
        "# 1. Simple feed forward neural netwrok"
      ],
      "metadata": {
        "id": "-ZGfscddFOFK"
      }
    },
    {
      "cell_type": "code",
      "source": [
        "# Encode 'airline_sentiment' as binary (positive = 1, negative = 0)\n",
        "label_encoder = LabelEncoder()\n",
        "df['label'] = label_encoder.fit_transform(df['airline_sentiment'])"
      ],
      "metadata": {
        "id": "ndv_tIwQCc5H"
      },
      "execution_count": 35,
      "outputs": []
    },
    {
      "cell_type": "code",
      "source": [
        "# Filter only positive and negative sentiments, excluding neutral\n",
        "df = df[df['airline_sentiment'] != 'neutral']"
      ],
      "metadata": {
        "id": "eqHwNlsrCgnc"
      },
      "execution_count": 36,
      "outputs": []
    },
    {
      "cell_type": "code",
      "source": [
        "# Extract text and labels\n",
        "X = df['text'].values\n",
        "y = df['label'].values"
      ],
      "metadata": {
        "id": "qSW1RenDCjGM"
      },
      "execution_count": 37,
      "outputs": []
    },
    {
      "cell_type": "code",
      "source": [
        "# Convert text to numerical features using TF-IDF\n",
        "vectorizer = TfidfVectorizer(max_features=1000)\n",
        "X_tfidf = vectorizer.fit_transform(X).toarray()"
      ],
      "metadata": {
        "id": "hskMXVoFCU9M"
      },
      "execution_count": 38,
      "outputs": []
    },
    {
      "cell_type": "code",
      "source": [
        "# Split the dataset into training and testing sets\n",
        "X_train, X_test, y_train, y_test = train_test_split(X_tfidf, y, test_size=0.2, random_state=42)"
      ],
      "metadata": {
        "id": "tj-aPjBNCYfO"
      },
      "execution_count": 39,
      "outputs": []
    },
    {
      "cell_type": "markdown",
      "source": [
        "# 2. Backpropogation to optimize model weights"
      ],
      "metadata": {
        "id": "1ok4muchHILo"
      }
    },
    {
      "cell_type": "code",
      "source": [
        "# Convert datasets to PyTorch tensors\n",
        "X_train_tensor = torch.tensor(X_train, dtype=torch.float32)\n",
        "X_test_tensor = torch.tensor(X_test, dtype=torch.float32)\n",
        "y_train_tensor = torch.tensor(y_train, dtype=torch.float32).view(-1, 1)\n",
        "y_test_tensor = torch.tensor(y_test, dtype=torch.float32).view(-1, 1)"
      ],
      "metadata": {
        "id": "AMeotTW2GFzo"
      },
      "execution_count": 46,
      "outputs": []
    },
    {
      "cell_type": "code",
      "source": [
        "# Define the Neural Network class\n",
        "class SentimentNet(nn.Module):\n",
        "    def __init__(self, input_size, hidden_size, output_size, activation_fn='relu'):\n",
        "        super(SentimentNet, self).__init__()\n",
        "        self.fc1 = nn.Linear(input_size, hidden_size)\n",
        "        self.fc2 = nn.Linear(hidden_size, output_size)\n",
        "\n",
        "        if activation_fn == 'relu':\n",
        "            self.activation = nn.ReLU()\n",
        "        elif activation_fn == 'sigmoid':\n",
        "            self.activation = nn.Sigmoid()\n",
        "        elif activation_fn == 'tanh':\n",
        "            self.activation = nn.Tanh()\n",
        "\n",
        "    def forward(self, x):\n",
        "        x = self.activation(self.fc1(x))\n",
        "        x = torch.sigmoid(self.fc2(x))\n",
        "        return x"
      ],
      "metadata": {
        "id": "mtbuorIuGQDI"
      },
      "execution_count": 51,
      "outputs": []
    },
    {
      "cell_type": "markdown",
      "source": [
        "# 3. Experiment with different Activation Fucntions"
      ],
      "metadata": {
        "id": "GjpmcuEAHY6V"
      }
    },
    {
      "cell_type": "code",
      "source": [
        "# Function to train the model with backpropagation\n",
        "def train_model(activation_fn, learning_rate=0.001, epochs=100):\n",
        "    input_size = X_train.shape[1]\n",
        "    hidden_size = 64\n",
        "    output_size = 1\n",
        "\n",
        "    # Initialize the model, loss function, and optimizer\n",
        "    model = SentimentNet(input_size, hidden_size, output_size, activation_fn)\n",
        "    criterion = nn.BCELoss()\n",
        "    optimizer = optim.Adam(model.parameters(), lr=learning_rate)\n",
        "\n",
        "    # Lists to store loss for plotting\n",
        "    loss_values = []\n",
        "\n",
        "    # Training loop\n",
        "    for epoch in range(epochs):\n",
        "        # Forward pass: Compute predicted y by passing X to the model\n",
        "        y_pred = model(X_train_tensor)\n",
        "\n",
        "        # Compute loss\n",
        "        loss = criterion(y_pred, y_train_tensor)\n",
        "\n",
        "        # Zero gradients, perform a backward pass, and update weights\n",
        "        optimizer.zero_grad()\n",
        "        loss.backward()\n",
        "        optimizer.step()\n",
        "\n",
        "        # Save the loss value for plotting\n",
        "        loss_values.append(loss.item())\n",
        "\n",
        "        if (epoch+1) % 10 == 0:\n",
        "            print(f'Epoch [{epoch+1}/{epochs}], Loss: {loss.item():.4f}')\n",
        "\n",
        "    # Plot the loss curve\n",
        "    plt.plot(loss_values, label=f'Activation: {activation_fn}')\n",
        "\n",
        "    return model"
      ],
      "metadata": {
        "id": "aB-QW0F9GeJK"
      },
      "execution_count": 50,
      "outputs": []
    },
    {
      "cell_type": "code",
      "source": [
        "# Evaluate the model on the test set\n",
        "def evaluate_model(model):\n",
        "    y_pred = model(X_test_tensor)\n",
        "    y_pred = (y_pred > 0.5).float()\n",
        "\n",
        "    # Calculate accuracy\n",
        "    accuracy = accuracy_score(y_test_tensor, y_pred.detach().numpy())\n",
        "    return accuracy"
      ],
      "metadata": {
        "id": "gUGcV3vOGlik"
      },
      "execution_count": 48,
      "outputs": []
    },
    {
      "cell_type": "code",
      "source": [
        "# List of activation functions to experiment with\n",
        "activations = ['relu', 'sigmoid', 'tanh']\n",
        "\n",
        "plt.figure(figsize=(10, 6))"
      ],
      "metadata": {
        "colab": {
          "base_uri": "https://localhost:8080/",
          "height": 52
        },
        "id": "J1N1woQQGo6H",
        "outputId": "33a3ae74-a55b-46e7-d1b7-be3852695b92"
      },
      "execution_count": 49,
      "outputs": [
        {
          "output_type": "execute_result",
          "data": {
            "text/plain": [
              "<Figure size 1000x600 with 0 Axes>"
            ]
          },
          "metadata": {},
          "execution_count": 49
        },
        {
          "output_type": "display_data",
          "data": {
            "text/plain": [
              "<Figure size 1000x600 with 0 Axes>"
            ]
          },
          "metadata": {}
        }
      ]
    },
    {
      "cell_type": "markdown",
      "source": [
        "# 4. Evaluate model and plot the loss"
      ],
      "metadata": {
        "id": "VycW1g62HjQM"
      }
    },
    {
      "cell_type": "code",
      "source": [
        "# Train and evaluate the model for each activation function\n",
        "for activation in activations:\n",
        "    model = train_model(activation_fn=activation, learning_rate=0.001, epochs=100)\n",
        "    accuracy = evaluate_model(model)\n",
        "    print(f\"Accuracy with {activation} activation: {accuracy:.2f}\")\n",
        "\n",
        "# Customize and show the loss curve plot\n",
        "plt.title('Loss Curves for Different Activation Functions')\n",
        "plt.xlabel('Epochs')\n",
        "plt.ylabel('Loss')\n",
        "plt.legend()\n",
        "plt.show()"
      ],
      "metadata": {
        "colab": {
          "base_uri": "https://localhost:8080/",
          "height": 1000
        },
        "id": "yQw4S9rCGzMs",
        "outputId": "df2f9d3f-fdf2-4942-d622-3b62dfd693a1"
      },
      "execution_count": 52,
      "outputs": [
        {
          "output_type": "stream",
          "name": "stdout",
          "text": [
            "Epoch [10/100], Loss: 0.6451\n",
            "Epoch [20/100], Loss: 0.6116\n",
            "Epoch [30/100], Loss: 0.5721\n",
            "Epoch [40/100], Loss: 0.5284\n",
            "Epoch [50/100], Loss: 0.4831\n",
            "Epoch [60/100], Loss: 0.4393\n",
            "Epoch [70/100], Loss: 0.3986\n",
            "Epoch [80/100], Loss: 0.3617\n",
            "Epoch [90/100], Loss: 0.3289\n",
            "Epoch [100/100], Loss: 0.3005\n",
            "Accuracy with relu activation: 0.89\n",
            "Epoch [10/100], Loss: 0.6172\n",
            "Epoch [20/100], Loss: 0.5536\n",
            "Epoch [30/100], Loss: 0.5197\n",
            "Epoch [40/100], Loss: 0.5043\n",
            "Epoch [50/100], Loss: 0.4976\n",
            "Epoch [60/100], Loss: 0.4939\n",
            "Epoch [70/100], Loss: 0.4908\n",
            "Epoch [80/100], Loss: 0.4877\n",
            "Epoch [90/100], Loss: 0.4844\n",
            "Epoch [100/100], Loss: 0.4811\n",
            "Accuracy with sigmoid activation: 0.81\n",
            "Epoch [10/100], Loss: 0.6359\n",
            "Epoch [20/100], Loss: 0.5732\n",
            "Epoch [30/100], Loss: 0.5131\n",
            "Epoch [40/100], Loss: 0.4638\n",
            "Epoch [50/100], Loss: 0.4283\n",
            "Epoch [60/100], Loss: 0.4020\n",
            "Epoch [70/100], Loss: 0.3792\n",
            "Epoch [80/100], Loss: 0.3573\n",
            "Epoch [90/100], Loss: 0.3360\n",
            "Epoch [100/100], Loss: 0.3157\n",
            "Accuracy with tanh activation: 0.87\n"
          ]
        },
        {
          "output_type": "display_data",
          "data": {
            "text/plain": [
              "<Figure size 640x480 with 1 Axes>"
            ],
            "image/png": "[encoded data removed]"
          },
          "metadata": {}
        }
      ]
    },
    {
      "cell_type": "markdown",
      "source": [
        "ReLU clearly outperforms both Sigmoid and Tanh in terms of loss minimization and convergence speed.\n",
        "Sigmoid appears to be the least efficient for this particular task, likely due to issues like vanishing gradients, which can slow down learning.\n",
        "Tanh performs moderately well but is still not as effective as ReLU.\n",
        "\n",
        "ReLU seems to be the most suitable activation function for this dataset compared to other two activation functions."
      ],
      "metadata": {
        "id": "z5n76cgvEwuZ"
      }
    }
  ]
}